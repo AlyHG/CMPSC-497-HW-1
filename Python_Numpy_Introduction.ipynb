{
 "cells": [
  {
   "cell_type": "markdown",
   "metadata": {
    "id": "3q4llFOQmyHN"
   },
   "source": [
    "# Basic data types"
   ]
  },
  {
   "cell_type": "code",
   "execution_count": null,
   "metadata": {
    "id": "UccS9GLXm2Q7"
   },
   "outputs": [],
   "source": [
    "#Integers \n",
    "x = 3\n",
    "#print the type of x\n",
    "print(type(x))\n",
    "# Addition : add 1 to x and print the result\n",
    "x += 1\n",
    "print(x)\n",
    "# Subtraction; subtract 1 from x and print the result\n",
    "x-=1\n",
    "print(x)\n",
    "# Multiplication; multiply x with 2 and print the result\n",
    "x*=2\n",
    "print(x)\n",
    "# Exponentiation; print the square of x\n",
    "x**2\n",
    "print(x)"
   ]
  },
  {
   "cell_type": "code",
   "execution_count": null,
   "metadata": {
    "id": "gDNf97w0oSxB"
   },
   "outputs": [],
   "source": [
    "#floats\n",
    "y = 2.5\n",
    "#print the type of y\n",
    "print(type(y))\n",
    "#use operator *= to double the value of y and print y \n",
    "y*=2\n",
    "print(y)\n",
    "\n",
    "#use operator += to add 3 to y and print y \n",
    "y+=3\n",
    "print(y)\n"
   ]
  },
  {
   "cell_type": "code",
   "execution_count": null,
   "metadata": {
    "id": "4xaTfgDyozmB"
   },
   "outputs": [],
   "source": [
    "#Strings \n",
    "import string\n",
    "s = \"hello\"\n",
    "# Capitalize the above string and print it\n",
    "print(s.title())\n",
    "#Convert the string to uppercase and print it\n",
    "print(s.upper())\n",
    "# Right-justify the string, padding with 2 spaces print it;\n",
    "print(s.rjust(2))\n",
    "# Center the string, padding with 2 spaces print it;\n",
    "print(s.center(2))\n",
    "# Replace all instances of letter l  with \"(ell)\" and print it;\n",
    "print(s.replace('l','(ell)'))\n",
    "str = \" world \"\n",
    "# Strip leading and trailing whitespace in the above string and print\n",
    "print(str.strip())"
   ]
  },
  {
   "cell_type": "markdown",
   "metadata": {
    "id": "ZRK4igr0r5Qc"
   },
   "source": [
    "# Containers"
   ]
  },
  {
   "cell_type": "code",
   "execution_count": null,
   "metadata": {
    "colab": {
     "base_uri": "https://localhost:8080/"
    },
    "id": "tkt3cWoYrCop",
    "outputId": "1d36a0c8-51b4-42dc-ecbc-792cc6fc4a1e"
   },
   "outputs": [],
   "source": [
    "#Lists\n",
    "#create a list of first five natural numbers\n",
    "list1 = [1,2,3,4]\n",
    "#change the 3rd element to \"foo\" and print list1\n",
    "list1[2] = \"foo\"\n",
    "print(list1)\n",
    "\n",
    "list2 = [\"bar\"]\n",
    "#append list2 to list1 and print the result\n",
    "list1.append(list2)\n",
    "print(list1)\n",
    "#add list2 to list1 using extend and print the result\n",
    "list1.extend(list2)\n",
    "print(list1)\n",
    "#remove last element in list1 using pop and print list1\n",
    "list1.pop()\n",
    "print(list1)\n"
   ]
  },
  {
   "cell_type": "code",
   "execution_count": null,
   "metadata": {
    "colab": {
     "base_uri": "https://localhost:8080/"
    },
    "id": "fcayPpYjtla-",
    "outputId": "cd679685-962c-4495-8c3c-e5e55585b0b8"
   },
   "outputs": [],
   "source": [
    "#Slicing \n",
    "nums = list(range(5))\n",
    "#print a slice from index 2 to 4 (exclusive)\n",
    "nums[2:4]\n",
    "#print a slice from index 2 to 4 (exclusive)\n",
    "print(nums[2:4])\n",
    "# Slice indices can be negative; \n",
    "print(nums[:-3]) \n",
    "# Assign the [8,9] new list to a slice from index 2 to 4 (exclusive)\n",
    "nums[2:4] = [8,9]\n"
   ]
  },
  {
   "cell_type": "code",
   "execution_count": null,
   "metadata": {
    "id": "v-PI9dt3uxkx"
   },
   "outputs": [],
   "source": [
    "#Loops\n",
    "nums = [0, 1, 2, 3, 4]\n",
    "squares = []\n",
    "# append squares of each element in nums to squares using for loop\n",
    "for num in nums:\n",
    "    squares.append(num**2)\n",
    "\n",
    "\n",
    "print(squares)\n",
    "####\n",
    "\n",
    "animals = ['cat', 'dog', 'monkey']\n",
    "#print index and elements in the list using enumerate and for loop\n",
    "\n",
    "\n",
    "#print squares of even numbers using list comprehensions\n",
    "nums = [0, 1, 2, 3, 4]\n",
    "even_squares = [num**2 for num in nums if num % 2 == 0]\n",
    "print(even_squares)"
   ]
  },
  {
   "cell_type": "code",
   "execution_count": null,
   "metadata": {
    "id": "Odzrj6_Nv51m"
   },
   "outputs": [],
   "source": [
    "#Dictionaries\n",
    "#create a dictionary with keys = (cat, dog) and items = (cute,furry)\n",
    "d = {'cat': 'cute', 'dog': 'furry'}\n",
    "print(d)\n",
    "#set an entry {fish:wet}\n",
    "d['fish'] = 'wet'\n",
    "print(d)\n",
    "\n",
    "#remove the entry with key= cat \n",
    "d.pop('cat')\n",
    "\n",
    "print(d)\n",
    "# Get an element with a default;\n",
    "print(d.get('monkey', 'N/A'))\n",
    "# get an element with key= fish and print it\n",
    "print(d.get('fish'))\n",
    "#print all keys in dictionary\n",
    "print(d.keys())\n",
    "#print all items in dictionary\n",
    "print(d.items())"
   ]
  },
  {
   "cell_type": "code",
   "execution_count": null,
   "metadata": {
    "id": "DAZXgnPqwNrB"
   },
   "outputs": [],
   "source": [
    "#sets \n",
    "#create a set with elements cat, dog and fish\n",
    "s = {'cat', 'dog', 'fish'}\n",
    "print (s)\n",
    "#add monkey to the set\n",
    "s.add('monkey')\n",
    "\n",
    "print(s)\n",
    "#remove fish from the set \n",
    "s.remove('fish')\n",
    "\n",
    "print(s)\n",
    "#checks if an element is in the set\n",
    "print('fish' in animals)"
   ]
  },
  {
   "cell_type": "markdown",
   "metadata": {
    "id": "1hOHkVTbFVk8"
   },
   "source": [
    "# Numpy"
   ]
  },
  {
   "cell_type": "code",
   "execution_count": 2,
   "metadata": {
    "id": "uG2OTLa9FTqL"
   },
   "outputs": [
    {
     "name": "stdout",
     "output_type": "stream",
     "text": [
      "(2, 3)\n",
      "[[0. 0.]\n",
      " [0. 0.]]\n",
      "[[1. 1.]]\n",
      "[[7 7 7]\n",
      " [7 7 7]\n",
      " [7 7 7]]\n",
      "[[0.04738233 0.96471259]\n",
      " [0.58412106 0.38853696]]\n"
     ]
    }
   ],
   "source": [
    "#importing the numpy package \n",
    "import numpy as np\n",
    "\n",
    "b = np.array([[1,2,3],[4,5,6]])    # Create a rank 2 array\n",
    "#print the shape of the array\n",
    "print(b.shape)\n",
    "#print an array of all zeros of shape(2,2)\n",
    "print(np.zeros((2,2)))\n",
    "#print an array of all ones of shape(1,2)\n",
    "print(np.ones((1,2)))\n",
    "#print an array of shape (3,3) with all elements in array = 7\n",
    "print(np.full((3,3),7))\n",
    "#print an array filled with random values of shape (2,2)\n",
    "print(np.random.random((2,2)))"
   ]
  },
  {
   "cell_type": "code",
   "execution_count": 6,
   "metadata": {
    "id": "IYiYxnHYP2L5"
   },
   "outputs": [
    {
     "name": "stdout",
     "output_type": "stream",
     "text": [
      "[[2 3]\n",
      " [6 7]]\n",
      "[ 1  6  7 11]\n",
      "[[11  2  3]\n",
      " [ 4  5 16]\n",
      " [17  8  9]\n",
      " [10 21 12]]\n"
     ]
    }
   ],
   "source": [
    "#ARRAY INDEXING\n",
    "\n",
    "a = np.array([[1,2,3,4], [5,6,7,8], [9,10,11,12]])\n",
    "# Use slicing to print out the subarray consisting of the first 2 rows and columns 1 and 2;\n",
    "print(a[:2, 1:3])\n",
    "a = np.array([[1,2,3], [4,5,6], [7,8,9], [10, 11, 12]])\n",
    "b = np.array([0, 2, 0, 1])\n",
    "# print one element from each row of a using the indices in b\n",
    "print(a[np.arange(4), b])\n",
    "# add 10 to one element from each row of a using the indices in b\n",
    "a[np.arange(4), b] += 10\n",
    "#print(a)"
   ]
  },
  {
   "cell_type": "code",
   "execution_count": 14,
   "metadata": {
    "id": "OYsgl7PtSzq-"
   },
   "outputs": [
    {
     "name": "stdout",
     "output_type": "stream",
     "text": [
      "[[False False]\n",
      " [ True  True]\n",
      " [ True  True]]\n",
      "[3 4 5 6]\n",
      "int64\n",
      "[[1 2]\n",
      " [3 4]]\n"
     ]
    }
   ],
   "source": [
    "#Boolean array indexing\n",
    "a = np.array([[1,2], [3, 4], [5, 6]])\n",
    "#Print a numpy array of Booleans where elements of a are bigger than 2 ,shape=(3,2)\n",
    "print(np.array(a>2))\n",
    "#a rank 1 array consisting of the elements of a that are bigger than 2\n",
    "print(a[a>2])\n",
    "x = np.array([1, 2]) \n",
    "#print data type of the array\n",
    "print(x.dtype)\n",
    "#create an array [[1,2],[3,4]] with data type int64.\n",
    "b = np.array([[1,2],[3,4]], dtype=np.int64)\n",
    "print(b)"
   ]
  },
  {
   "cell_type": "code",
   "execution_count": 15,
   "metadata": {
    "id": "VZoDHzWSUk3_"
   },
   "outputs": [
    {
     "name": "stdout",
     "output_type": "stream",
     "text": [
      "[[ 6.  8.]\n",
      " [10. 12.]]\n",
      "[[-4. -4.]\n",
      " [-4. -4.]]\n",
      "[[ 5. 12.]\n",
      " [21. 32.]]\n",
      "[[0.2        0.33333333]\n",
      " [0.42857143 0.5       ]]\n",
      "[[1.         1.41421356]\n",
      " [1.73205081 2.        ]]\n",
      "[[2.23606798 2.44948974]\n",
      " [2.64575131 2.82842712]]\n"
     ]
    }
   ],
   "source": [
    "#Array math\n",
    "x = np.array([[1,2],[3,4]], dtype=np.float64)\n",
    "y = np.array([[5,6],[7,8]], dtype=np.float64)\n",
    "#print elementwise addition using numpy function\n",
    "print(np.add(x,y))\n",
    "#print elementwise difference using numpy function\n",
    "print(np.subtract(x,y))\n",
    "#print elementwise multiplication using numpy function\n",
    "print(np.multiply(x,y))\n",
    "#print elementwise division using numpy function\n",
    "print(np.divide(x,y))\n",
    "#print elementwise square root using numpy function\n",
    "print(np.sqrt(x))\n",
    "print(np.sqrt(y))"
   ]
  },
  {
   "cell_type": "code",
   "execution_count": 17,
   "metadata": {
    "id": "TmMfplkRVZIu"
   },
   "outputs": [
    {
     "name": "stdout",
     "output_type": "stream",
     "text": [
      "[[ 4161  4818]\n",
      " [ 9417 10950]]\n",
      "[29 67]\n",
      "[[19 22]\n",
      " [43 50]]\n"
     ]
    }
   ],
   "source": [
    "x = np.array([[1,2],[3,4]])\n",
    "y = np.array([[5,6],[7,8]])\n",
    "\n",
    "v = np.array([9,10])\n",
    "w = np.array([11, 12])\n",
    "\n",
    "#print Inner product of vectors\n",
    "a = np.dot(x,y)\n",
    "b = np.dot(v, w)\n",
    "print(np.dot(a,b))\n",
    "#print matrix / vector product of x and v \n",
    "print(np.dot(x,v))\n",
    "#print matrix / vector product of x and y \n",
    "print(np.dot(x,y))"
   ]
  },
  {
   "cell_type": "code",
   "execution_count": 20,
   "metadata": {
    "id": "5_Iy6xwGXVS8"
   },
   "outputs": [
    {
     "name": "stdout",
     "output_type": "stream",
     "text": [
      "10\n",
      "[4 6]\n",
      "[3 7]\n"
     ]
    }
   ],
   "source": [
    "x = np.array([[1,2],[3,4]])\n",
    "#print sum of all elements in array\n",
    "print(np.sum(x))\n",
    "#print sum of elements in each row\n",
    "print(np.sum(x, axis=0))\n",
    "#print sum of elements in each column\n",
    "print(np.sum(x, axis=1))"
   ]
  },
  {
   "cell_type": "code",
   "execution_count": 24,
   "metadata": {
    "id": "dwkaL3GSZiBl"
   },
   "outputs": [
    {
     "name": "stdout",
     "output_type": "stream",
     "text": [
      "[[ 2  2  4]\n",
      " [ 5  5  7]\n",
      " [ 8  8 10]\n",
      " [11 11 13]]\n",
      "<numpy.broadcast object at 0x7fcf070b3630>\n"
     ]
    }
   ],
   "source": [
    "x = np.array([[1,2,3], [4,5,6], [7,8,9], [10, 11, 12]])\n",
    "v = np.array([1, 0, 1])\n",
    "#Create an empty matrix with the same shape as x and print\n",
    "a = np.empty_like(x)\n",
    "# create an array y by adding  the vector v to each row of the matrix x with an explicit loop \n",
    "#print y\n",
    "y = np.zeros_like(x)\n",
    "for i in range(4):\n",
    "    y[i, :] = x[i, :] + v\n",
    "print(y)\n",
    "\n",
    "#Add v to each row of x using broadcasting\n",
    "#store the result in matrix y and print y\n",
    "y = np.broadcast(x,v)\n",
    "print(y)\n"
   ]
  },
  {
   "cell_type": "code",
   "execution_count": 27,
   "metadata": {
    "id": "apNuOG-_bomv"
   },
   "outputs": [
    {
     "name": "stdout",
     "output_type": "stream",
     "text": [
      "[[1]\n",
      " [2]\n",
      " [3]]\n"
     ]
    }
   ],
   "source": [
    "v = np.array([1,2,3])  \n",
    "w = np.array([4,5])\n",
    "#reshape v to(3,1) using numpy function and print it\n",
    "print(v.reshape(3,1))\n"
   ]
  }
 ],
 "metadata": {
  "colab": {
   "collapsed_sections": [],
   "name": "HW1.ipynb",
   "provenance": []
  },
  "kernelspec": {
   "display_name": "base",
   "language": "python",
   "name": "python3"
  },
  "language_info": {
   "codemirror_mode": {
    "name": "ipython",
    "version": 3
   },
   "file_extension": ".py",
   "mimetype": "text/x-python",
   "name": "python",
   "nbconvert_exporter": "python",
   "pygments_lexer": "ipython3",
   "version": "3.9.13 (main, Aug 25 2022, 18:29:29) \n[Clang 12.0.0 ]"
  },
  "vscode": {
   "interpreter": {
    "hash": "00ae73ff59d7f0540d1526df751873f98f431de18bfb2258e270968dfd3bac81"
   }
  }
 },
 "nbformat": 4,
 "nbformat_minor": 1
}
